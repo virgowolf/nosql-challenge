





from pymongo import MongoClient
import pandas as pd
from pprint import pprint


# Create an instance of MongoClient
mongo = MongoClient(port=27017)


# assign the uk_food database to a variable name
db = mongo['uk_food']


# review the collections in our database
print(db.list_collection_names())


# assign the collection to a variable
establishments = db['establishments']








# Find the establishments with a hygiene score of 20
query = {'scores.Hygiene': 20}
results = establishments.find(query)

# Use count_documents to display the number of documents in the result
count_hygiene = establishments.count_documents(query)
print(count_hygiene)


# Display the first document in the results using pprint
pprint(results[0])


# Convert the result to a Pandas DataFrame
hygiene20_df = pd.DataFrame(results)

# Display the number of rows in the DataFrame
print("Rows in DataFrame: ", len(hygiene20_df))

# Display the first 10 rows of the DataFrame
hygiene20_df.head(10)





# Find the establishments with the word 'London' included in the Local Authority Name and a RatingValue greater than or equal to 4.
query = {'LocalAuthorityName': {'$regex': 'London'},'RatingValue': {'$gte' : 4}}
results = establishments.find(query)

# Use count_documents to count the number of documents in the result
rating4_establishments_count = establishments.count_documents(query)

#Display the count of documents
print("Number of establishments in London with RatingValue >= 4:", rating4_establishments_count)

# Display the first document in the results using pprint
if rating4_establishments_count > 0:
    pprint(results[0])


# Convert the result to a Pandas DataFrame
rating4_establishments_df = pd.DataFrame(results)

# Display the number of rows in the DataFrame
print("Rows in DataFrame: ", len(rating4_establishments_df))

# Display the first 10 rows of the DataFrame
rating4_establishments_df.head(10)





# Search within 0.01 degree on either side of the latitude and longitude.
# Rating value must equal 5
# Sort by hygiene score

degree_search = 0.01
latitude =
longitude =

query =
sort =
limit =

# Print the results



# Convert result to Pandas DataFrame






# Create a pipeline that:
# 1. Matches establishments with a hygiene score of 0
# 2. Groups the matches by Local Authority
# 3. Sorts the matches from highest to lowest

# Print the number of documents in the result

# Print the first 10 results



# Convert the result to a Pandas DataFrame

# Display the number of rows in the DataFrame

# Display the first 10 rows of the DataFrame

