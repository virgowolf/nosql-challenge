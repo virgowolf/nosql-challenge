





from pymongo import MongoClient
import pandas as pd
from pprint import pprint


# Create an instance of MongoClient
mongo = MongoClient(port=27017)


# assign the uk_food database to a variable name
db = mongo['uk_food']


# review the collections in our database
print(db.list_collection_names())


# assign the collection to a variable
establishments = db['establishments']








# Find the establishments with a hygiene score of 20
query = {'scores.Hygiene': 20}
results = establishments.find(query)

# Use count_documents to display the number of documents in the result
count_hygiene = establishments.count_documents(query)
print(count_hygiene)


# Display the first document in the results using pprint
pprint(results[0])


# Convert the result to a Pandas DataFrame
hygiene20_df = pd.DataFrame(results)

# Display the number of rows in the DataFrame
print("Rows in DataFrame: ", len(hygiene20_df))

# Display the first 10 rows of the DataFrame
hygiene20_df.head(10)





# Find the establishments with the word 'London' included in the Local Authority Name and a RatingValue greater than or equal to 4.
query = {'LocalAuthorityName': {'$regex': 'London'},'RatingValue': {'$gte' : 4}}
results = establishments.find(query)

# Use count_documents to count the number of documents in the result
rating4_establishments_count = establishments.count_documents(query)

#Display the count of documents
print("Number of establishments in London with RatingValue >= 4:", rating4_establishments_count)

# Display the first document in the results using pprint
if rating4_establishments_count > 0:
    pprint(results[0])


# Convert the result to a Pandas DataFrame
rating4_establishments_df = pd.DataFrame(results)

# Display the number of rows in the DataFrame
print("Rows in DataFrame: ", len(rating4_establishments_df))

# Display the first 10 rows of the DataFrame
rating4_establishments_df.head(10)





# Search within 0.01 degree on either side of the latitude and longitude.
# Rating value must equal 5
# Sort by hygiene score

proximity_search_query = {
    "geocode.longitude": {
        "$lte": 0.09384000,
        "$gte": 0.073840
    },
    "geocode.latitude": {
        "$lte": 51.50014200,
        "$gte": 51.480142
    },
          "RatingValue": 5
}

#longitude = 0.083840 + 0.01 = 0.093840
#longitude = 0.083840 - 0.01 = 0.073840
                 
#latitude = 51.490142 + 0.01 = 51.5001420
#latitude = 51.490142 - 0.01 = 51.480142

sort = [("scores.Hygiene", 1)]
limit = 5                
results = list(establishments.find(proximity_search_query).sort(sort).limit(limit))


# Print the results
for result in results:
    pprint(result)


# Convert result to Pandas DataFrame
proximity_search_df = pd.DataFrame(results)
proximity_search_df





# Create a pipeline that:
# 1. Matches establishments with a hygiene score of 0
match_stg = {'$match': {'scores.Hygiene': 0}}
             
# 2. Aggregation query groups the matches by Local Authority and counts the number of documents
group_stg = {'$group': {'_id':'$LocalAuthorityName',
                       'count': { '$sum': 1}}}
             
# 3. Sorts the matches from highest to lowest (descending order)
sort_stg = {'$sort': { 'count': -1}}

#4. Put the pipeline together
pipeline = [match_stg, group_stg, sort_stg]

# Run the pipeline through the aggregate method, cast as a list, and save the results as a variable
results = list(establishments.aggregate(pipeline))

# Print the number of documents in the result
print("Number of documents in results: ", len(results))

# Print the first 10 results using pretty print
pprint(results[:10])


# Convert the result to a Pandas DataFrame
hygiene_zero_df = pd.DataFrame(results)

# Display the number of rows in the DataFrame
print("Number of rows in DataFrame:", len(hygiene_zero_df))

# Display the first 10 rows of the DataFrame
hygiene_zero_df.head(10)
