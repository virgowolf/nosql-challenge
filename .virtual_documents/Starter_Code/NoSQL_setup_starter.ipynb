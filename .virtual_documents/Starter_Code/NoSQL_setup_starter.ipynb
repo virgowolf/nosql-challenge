








# Import dependencies
from pymongo import MongoClient
from pprint import pprint


# Create an instance of MongoClient
mongo = MongoClient(port=27017)


# confirm that our new database was created
print(mongo.list_database_names())


# assign the uk_food database to a variable name
db = mongo['uk_food']


# review the collections in our new database
print(db.list_collection_names())


# review a document in the establishments collection
pprint(db.establishments.find_one())


# assign the collection to a variable
establishments = db['establishments']








# Create a dictionary for the new restaurant data
new_estab = {
    "BusinessName":"Penang Flavours",
    "BusinessType":"Restaurant/Cafe/Canteen",
    "BusinessTypeID":"",
    "AddressLine1":"Penang Flavours",
    "AddressLine2":"146A Plumstead Rd",
    "AddressLine3":"London",
    "AddressLine4":"",
    "PostCode":"SE18 7DY",
    "Phone":"",
    "LocalAuthorityCode":"511",
    "LocalAuthorityName":"Greenwich",
    "LocalAuthorityWebSite":"http://www.royalgreenwich.gov.uk",
    "LocalAuthorityEmailAddress":"health@royalgreenwich.gov.uk",
    "scores":{
        "Hygiene":"",
        "Structural":"",
        "ConfidenceInManagement":""
    },
    "SchemeType":"FHRS",
    "geocode":{
        "longitude":"0.08384000",
        "latitude":"51.49014200"
    },
    "RightToReply":"",
    "Distance":4623.9723280747176,
    "NewRatingPending":True
}


# Insert the new restaurant into the collection
establishments.insert_one(new_estab)


# Check that the new restaurant was inserted
pprint(establishments.find_one({"BusinessName": new_estab['BusinessName']}))





# Find the BusinessTypeID for "Restaurant/Cafe/Canteen" and return only the BusinessTypeID and BusinessType fields
query = {'BusinessTypeID' : 1}
fields = {'BusinessTypeID', 'BusinessType'}

# Cast the results as a list and save them to a variable
results = list(establishments.find(query, fields))

# Pretty print the results
pprint(results)





# Update the new restaurant with the correct BusinessTypeID
db.establishments.update_one(
    {'BusinessName': 'Penang Flavours'},
    {'$set':
        {'BusinessTypeID': '1'}
    }
)


# Confirm that the new restaurant was updated
pprint(establishments.find_one({"BusinessName": new_estab['BusinessName']}))





# Find how many documents have LocalAuthorityName as "Dover"
dover_authority = establishments.count_documents({'LocalAuthorityName': "Dover"})
dover_authority


# Delete all documents where LocalAuthorityName is "Dover"
db.establishments.delete_many({'LocalAuthorityName': "Dover"})


# Check if any remaining documents include Dover
dover_authority


# Check that other documents remain with 'find_one'
print(db.establishments.find_one())








# Retrieve documents and update longitude and latitude fields within the 'geocode' field
for document in db.establishments.find():
    geocode = document.get('geocode')

    if geocode is not None:
        longitude_str = geocode.get('longitude')
        latitude_str = geocode.get('latitude')

        if longitude_str is not None and latitude_str is not None:
            try:
                longitude_float = float(longitude_str)
                latitude_float = float(latitude_str)

                # Update the document with the converted longitude and latitude values
                db.establishments.update_many(
                    {'_id': document['_id']},
                    {'$set': {'geocode.longitude': longitude_float, 'geocode.latitude': latitude_float}}
                )
            except ValueError:
                print(f"Error converting longitude or latitude for document {_id}")



# Check if lat and long are now datatype doubles
test_doc = db.establishments.find_one()

# Print out the data types for all fields
for key, value in test_doc.items():
    print(f"Field '{key} is type: {type(value)}")


test_doc





# Set non 1-5 Rating Values to Null
non_ratings = ["AwaitingInspection", "Awaiting Inspection", "AwaitingPublication", "Pass", "Exempt"]
establishments.update_many({"RatingValue": {"$in": non_ratings}}, [ {'$set':{ "RatingValue" : None}} ])


# Change the data type from String to Integer for RatingValue by iterating over all the rows
for document in db.establishments.find():
    rating_value_str = document.get('RatingValue')

    if rating_value_str is not None:
        try:
            #Convert string to integer
            rating_value_int = int(rating_value_str)
            
            #Update all documents with the converted RatingValue
            db.establishments.update_many(
                {'_id': document['_id']},
                {'$set': {'RatingValue': rating_value_int}}
            )
        except ValueError:
            print(f"Error converting RatingValue for document {_id}")



# Check that the coordinates and rating value are now numbers
test_doc2 = db.establishments.find_one()
# Print out the data types for all fields
for key, value in test_doc2.items():
    print(f"Field '{key} is type: {type(value)}")



